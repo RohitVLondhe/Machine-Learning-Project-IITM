{
 "cells": [
  {
   "cell_type": "code",
   "execution_count": 1,
   "id": "74a3bc91",
   "metadata": {
    "execution": {
     "iopub.execute_input": "2022-11-25T15:35:30.433112Z",
     "iopub.status.busy": "2022-11-25T15:35:30.432655Z",
     "iopub.status.idle": "2022-11-25T15:35:30.553766Z",
     "shell.execute_reply": "2022-11-25T15:35:30.552876Z"
    },
    "papermill": {
     "duration": 0.133426,
     "end_time": "2022-11-25T15:35:30.556471",
     "exception": false,
     "start_time": "2022-11-25T15:35:30.423045",
     "status": "completed"
    },
    "tags": []
   },
   "outputs": [],
   "source": [
    "import numpy as np # linear algebra\n",
    "import pandas as pd # data processing, CSV file I/O (e.g. pd.read_csv)\n",
    "data=pd.read_csv('/kaggle/input/marketing-strategy-personalised-offer/train_data.csv')\n",
    "x_train = data.drop(['Offer Accepted'],axis=1)\n",
    "y_train = data['Offer Accepted'].copy()"
   ]
  },
  {
   "cell_type": "code",
   "execution_count": 2,
   "id": "5927a2f9",
   "metadata": {
    "execution": {
     "iopub.execute_input": "2022-11-25T15:35:30.572104Z",
     "iopub.status.busy": "2022-11-25T15:35:30.571727Z",
     "iopub.status.idle": "2022-11-25T15:35:30.617830Z",
     "shell.execute_reply": "2022-11-25T15:35:30.616700Z"
    },
    "papermill": {
     "duration": 0.05679,
     "end_time": "2022-11-25T15:35:30.620602",
     "exception": false,
     "start_time": "2022-11-25T15:35:30.563812",
     "status": "completed"
    },
    "tags": []
   },
   "outputs": [],
   "source": [
    "x_test=pd.read_csv('/kaggle/input/marketing-strategy-personalised-offer/test_data.csv')"
   ]
  },
  {
   "cell_type": "code",
   "execution_count": 3,
   "id": "4e3d7556",
   "metadata": {
    "execution": {
     "iopub.execute_input": "2022-11-25T15:35:30.635698Z",
     "iopub.status.busy": "2022-11-25T15:35:30.635293Z",
     "iopub.status.idle": "2022-11-25T15:35:30.645211Z",
     "shell.execute_reply": "2022-11-25T15:35:30.644347Z"
    },
    "papermill": {
     "duration": 0.020094,
     "end_time": "2022-11-25T15:35:30.647421",
     "exception": false,
     "start_time": "2022-11-25T15:35:30.627327",
     "status": "completed"
    },
    "tags": []
   },
   "outputs": [],
   "source": [
    "#encoding training results\n",
    "y_train = y_train.replace(to_replace = ['Yes','No'],value = [1,0])"
   ]
  },
  {
   "cell_type": "code",
   "execution_count": 4,
   "id": "00ff5618",
   "metadata": {
    "execution": {
     "iopub.execute_input": "2022-11-25T15:35:30.662111Z",
     "iopub.status.busy": "2022-11-25T15:35:30.661775Z",
     "iopub.status.idle": "2022-11-25T15:35:30.675634Z",
     "shell.execute_reply": "2022-11-25T15:35:30.674674Z"
    },
    "papermill": {
     "duration": 0.02379,
     "end_time": "2022-11-25T15:35:30.677832",
     "exception": false,
     "start_time": "2022-11-25T15:35:30.654042",
     "status": "completed"
    },
    "tags": []
   },
   "outputs": [],
   "source": [
    "#dropping car column as it is mostly null\n",
    "x_train = x_train.drop(['car'],axis=1)\n",
    "x_test = x_test.drop(['car'],axis=1)"
   ]
  },
  {
   "cell_type": "code",
   "execution_count": 5,
   "id": "b45453d9",
   "metadata": {
    "execution": {
     "iopub.execute_input": "2022-11-25T15:35:30.692860Z",
     "iopub.status.busy": "2022-11-25T15:35:30.692144Z",
     "iopub.status.idle": "2022-11-25T15:35:31.842663Z",
     "shell.execute_reply": "2022-11-25T15:35:31.841081Z"
    },
    "papermill": {
     "duration": 1.161309,
     "end_time": "2022-11-25T15:35:31.845753",
     "exception": false,
     "start_time": "2022-11-25T15:35:30.684444",
     "status": "completed"
    },
    "tags": []
   },
   "outputs": [],
   "source": [
    "#imputing missing data using most frequent as it is survey data\n",
    "from sklearn.impute import SimpleImputer\n",
    "imputer =  SimpleImputer(missing_values=np.NaN, strategy='most_frequent')\n",
    "\n",
    "imputer = imputer.fit(x_train)\n",
    "x_train_imp = imputer.transform(x_train)\n",
    "x_train = pd.DataFrame(x_train_imp, columns=x_train.columns)"
   ]
  },
  {
   "cell_type": "code",
   "execution_count": 6,
   "id": "dca4932e",
   "metadata": {
    "execution": {
     "iopub.execute_input": "2022-11-25T15:35:31.864731Z",
     "iopub.status.busy": "2022-11-25T15:35:31.863563Z",
     "iopub.status.idle": "2022-11-25T15:35:31.904405Z",
     "shell.execute_reply": "2022-11-25T15:35:31.903457Z"
    },
    "papermill": {
     "duration": 0.052613,
     "end_time": "2022-11-25T15:35:31.906988",
     "exception": false,
     "start_time": "2022-11-25T15:35:31.854375",
     "status": "completed"
    },
    "tags": []
   },
   "outputs": [],
   "source": [
    "imputer = imputer.fit(x_test)\n",
    "x_test_imp = imputer.transform(x_test)\n",
    "x_test = pd.DataFrame(x_test_imp, columns=x_test.columns)"
   ]
  },
  {
   "cell_type": "code",
   "execution_count": 7,
   "id": "58ea3101",
   "metadata": {
    "execution": {
     "iopub.execute_input": "2022-11-25T15:35:31.922577Z",
     "iopub.status.busy": "2022-11-25T15:35:31.921608Z",
     "iopub.status.idle": "2022-11-25T15:35:31.975231Z",
     "shell.execute_reply": "2022-11-25T15:35:31.974258Z"
    },
    "papermill": {
     "duration": 0.064175,
     "end_time": "2022-11-25T15:35:31.977951",
     "exception": false,
     "start_time": "2022-11-25T15:35:31.913776",
     "status": "completed"
    },
    "tags": []
   },
   "outputs": [],
   "source": [
    "#replacing '1' and '0' with the numbers 1 and 0 for some variables\n",
    "x_train['travelled_more_than_15mins_for_offer'] = pd.to_numeric(x_train['travelled_more_than_15mins_for_offer'])\n",
    "x_train['Prefer western over chinese'] = pd.to_numeric(x_train['Prefer western over chinese'])\n",
    "x_train['travelled_more_than_25mins_for_offer'] = pd.to_numeric(x_train['travelled_more_than_25mins_for_offer'])\n",
    "x_train['travelled_more_than_5mins_for_offer'] = pd.to_numeric(x_train['travelled_more_than_5mins_for_offer'])\n",
    "x_train['restuarant_same_direction_house'] = pd.to_numeric(x_train['restuarant_same_direction_house'])\n",
    "x_train['Cooks regularly'] = pd.to_numeric(x_train['Cooks regularly'])\n",
    "x_train['is foodie'] = pd.to_numeric(x_train['is foodie'])\n",
    "x_train['restuarant_opposite_direction_house'] = pd.to_numeric(x_train['restuarant_opposite_direction_house'])\n",
    "x_train['has Children'] = pd.to_numeric(x_train['has Children'])\n",
    "x_train['visit restaurant with rating (avg)'] = pd.to_numeric(x_train['visit restaurant with rating (avg)'])\n",
    "x_train['temperature'] = pd.to_numeric(x_train['temperature'])\n",
    "x_train['Travel Time'] = pd.to_numeric(x_train['Travel Time'])\n",
    "x_train['Prefer home food'] = pd.to_numeric(x_train['Prefer home food'])\n"
   ]
  },
  {
   "cell_type": "code",
   "execution_count": 8,
   "id": "6e7587f6",
   "metadata": {
    "execution": {
     "iopub.execute_input": "2022-11-25T15:35:31.994676Z",
     "iopub.status.busy": "2022-11-25T15:35:31.993944Z",
     "iopub.status.idle": "2022-11-25T15:35:32.022622Z",
     "shell.execute_reply": "2022-11-25T15:35:32.021615Z"
    },
    "papermill": {
     "duration": 0.040317,
     "end_time": "2022-11-25T15:35:32.025013",
     "exception": false,
     "start_time": "2022-11-25T15:35:31.984696",
     "status": "completed"
    },
    "tags": []
   },
   "outputs": [],
   "source": [
    "#replacing '1' and '0' with the numbers 1 and 0 for some variables\n",
    "x_test['travelled_more_than_15mins_for_offer'] = pd.to_numeric(x_test['travelled_more_than_15mins_for_offer'])\n",
    "x_test['Prefer western over chinese'] = pd.to_numeric(x_test['Prefer western over chinese'])\n",
    "x_test['travelled_more_than_25mins_for_offer'] = pd.to_numeric(x_test['travelled_more_than_25mins_for_offer'])\n",
    "x_test['travelled_more_than_5mins_for_offer'] = pd.to_numeric(x_test['travelled_more_than_5mins_for_offer'])\n",
    "x_test['restuarant_same_direction_house'] = pd.to_numeric(x_test['restuarant_same_direction_house'])\n",
    "x_test['Cooks regularly'] = pd.to_numeric(x_test['Cooks regularly'])\n",
    "x_test['is foodie'] = pd.to_numeric(x_test['is foodie'])\n",
    "x_test['restuarant_opposite_direction_house'] = pd.to_numeric(x_test['restuarant_opposite_direction_house'])\n",
    "x_test['has Children'] = pd.to_numeric(x_test['has Children'])\n",
    "x_test['visit restaurant with rating (avg)'] = pd.to_numeric(x_test['visit restaurant with rating (avg)'])\n",
    "x_test['temperature'] = pd.to_numeric(x_test['temperature'])\n",
    "x_test['Travel Time'] = pd.to_numeric(x_test['Travel Time'])\n",
    "x_test['Prefer home food'] = pd.to_numeric(x_test['Prefer home food'])\n"
   ]
  },
  {
   "cell_type": "code",
   "execution_count": 9,
   "id": "32c20aeb",
   "metadata": {
    "execution": {
     "iopub.execute_input": "2022-11-25T15:35:32.040468Z",
     "iopub.status.busy": "2022-11-25T15:35:32.039614Z",
     "iopub.status.idle": "2022-11-25T15:35:32.046410Z",
     "shell.execute_reply": "2022-11-25T15:35:32.045342Z"
    },
    "papermill": {
     "duration": 0.018297,
     "end_time": "2022-11-25T15:35:32.050161",
     "exception": false,
     "start_time": "2022-11-25T15:35:32.031864",
     "status": "completed"
    },
    "tags": []
   },
   "outputs": [
    {
     "name": "stdout",
     "output_type": "stream",
     "text": [
      "Categorical variables:\n",
      "['offer expiration', 'income_range', 'no_visited_Cold drinks', 'Restaur_spend_less_than20', 'Marital Status', 'restaurant type', 'age', 'no_visited_bars', 'gender', 'Customer type', 'Qualification', 'no_Take-aways', 'Job/Job Industry', 'Restaur_spend_greater_than20', 'Climate', 'drop location']\n"
     ]
    }
   ],
   "source": [
    "#getting names of categorical variables\n",
    "s = (x_train.dtypes == 'object')\n",
    "object_cols = list(s[s].index)\n",
    "print(\"Categorical variables:\")\n",
    "print(object_cols)"
   ]
  },
  {
   "cell_type": "code",
   "execution_count": 10,
   "id": "a9c91d06",
   "metadata": {
    "execution": {
     "iopub.execute_input": "2022-11-25T15:35:32.065317Z",
     "iopub.status.busy": "2022-11-25T15:35:32.064605Z",
     "iopub.status.idle": "2022-11-25T15:35:32.113534Z",
     "shell.execute_reply": "2022-11-25T15:35:32.112281Z"
    },
    "papermill": {
     "duration": 0.059277,
     "end_time": "2022-11-25T15:35:32.116231",
     "exception": false,
     "start_time": "2022-11-25T15:35:32.056954",
     "status": "completed"
    },
    "tags": []
   },
   "outputs": [],
   "source": [
    "#label encoding categorical variables\n",
    "#from sklearn.preprocessing import LabelEncoder\n",
    "#for i in object_cols:\n",
    "    #x_train[i] = LabelEncoder().fit_transform(x_train[i])\n",
    "x_train=pd.get_dummies(x_train)"
   ]
  },
  {
   "cell_type": "code",
   "execution_count": 11,
   "id": "19f8f9f2",
   "metadata": {
    "execution": {
     "iopub.execute_input": "2022-11-25T15:35:32.131516Z",
     "iopub.status.busy": "2022-11-25T15:35:32.131112Z",
     "iopub.status.idle": "2022-11-25T15:35:32.162325Z",
     "shell.execute_reply": "2022-11-25T15:35:32.161357Z"
    },
    "papermill": {
     "duration": 0.041324,
     "end_time": "2022-11-25T15:35:32.164738",
     "exception": false,
     "start_time": "2022-11-25T15:35:32.123414",
     "status": "completed"
    },
    "tags": []
   },
   "outputs": [],
   "source": [
    "#for i in object_cols:\n",
    "    #x_test[i] = LabelEncoder().fit_transform(x_test[i])\n",
    "x_test=pd.get_dummies(x_test)"
   ]
  },
  {
   "cell_type": "code",
   "execution_count": 12,
   "id": "f45365c2",
   "metadata": {
    "execution": {
     "iopub.execute_input": "2022-11-25T15:35:32.179545Z",
     "iopub.status.busy": "2022-11-25T15:35:32.179118Z",
     "iopub.status.idle": "2022-11-25T15:35:32.207397Z",
     "shell.execute_reply": "2022-11-25T15:35:32.206284Z"
    },
    "papermill": {
     "duration": 0.03872,
     "end_time": "2022-11-25T15:35:32.210249",
     "exception": false,
     "start_time": "2022-11-25T15:35:32.171529",
     "status": "completed"
    },
    "tags": []
   },
   "outputs": [
    {
     "data": {
      "text/html": [
       "<div>\n",
       "<style scoped>\n",
       "    .dataframe tbody tr th:only-of-type {\n",
       "        vertical-align: middle;\n",
       "    }\n",
       "\n",
       "    .dataframe tbody tr th {\n",
       "        vertical-align: top;\n",
       "    }\n",
       "\n",
       "    .dataframe thead th {\n",
       "        text-align: right;\n",
       "    }\n",
       "</style>\n",
       "<table border=\"1\" class=\"dataframe\">\n",
       "  <thead>\n",
       "    <tr style=\"text-align: right;\">\n",
       "      <th></th>\n",
       "      <th>travelled_more_than_15mins_for_offer</th>\n",
       "      <th>Prefer western over chinese</th>\n",
       "      <th>travelled_more_than_25mins_for_offer</th>\n",
       "      <th>travelled_more_than_5mins_for_offer</th>\n",
       "      <th>restuarant_same_direction_house</th>\n",
       "      <th>Cooks regularly</th>\n",
       "      <th>is foodie</th>\n",
       "      <th>restuarant_opposite_direction_house</th>\n",
       "      <th>has Children</th>\n",
       "      <th>visit restaurant with rating (avg)</th>\n",
       "      <th>...</th>\n",
       "      <th>Restaur_spend_greater_than20_4~8</th>\n",
       "      <th>Restaur_spend_greater_than20_gt8</th>\n",
       "      <th>Restaur_spend_greater_than20_less1</th>\n",
       "      <th>Restaur_spend_greater_than20_never</th>\n",
       "      <th>Climate_Spring</th>\n",
       "      <th>Climate_Summer</th>\n",
       "      <th>Climate_Winter</th>\n",
       "      <th>drop location_Location A</th>\n",
       "      <th>drop location_Location B</th>\n",
       "      <th>drop location_Location C</th>\n",
       "    </tr>\n",
       "  </thead>\n",
       "  <tbody>\n",
       "    <tr>\n",
       "      <th>0</th>\n",
       "      <td>1</td>\n",
       "      <td>0</td>\n",
       "      <td>1</td>\n",
       "      <td>1</td>\n",
       "      <td>0</td>\n",
       "      <td>0</td>\n",
       "      <td>0</td>\n",
       "      <td>1</td>\n",
       "      <td>1</td>\n",
       "      <td>4</td>\n",
       "      <td>...</td>\n",
       "      <td>0</td>\n",
       "      <td>0</td>\n",
       "      <td>1</td>\n",
       "      <td>0</td>\n",
       "      <td>0</td>\n",
       "      <td>1</td>\n",
       "      <td>0</td>\n",
       "      <td>0</td>\n",
       "      <td>0</td>\n",
       "      <td>1</td>\n",
       "    </tr>\n",
       "    <tr>\n",
       "      <th>1</th>\n",
       "      <td>0</td>\n",
       "      <td>1</td>\n",
       "      <td>0</td>\n",
       "      <td>1</td>\n",
       "      <td>0</td>\n",
       "      <td>0</td>\n",
       "      <td>1</td>\n",
       "      <td>1</td>\n",
       "      <td>1</td>\n",
       "      <td>0</td>\n",
       "      <td>...</td>\n",
       "      <td>0</td>\n",
       "      <td>0</td>\n",
       "      <td>1</td>\n",
       "      <td>0</td>\n",
       "      <td>0</td>\n",
       "      <td>1</td>\n",
       "      <td>0</td>\n",
       "      <td>1</td>\n",
       "      <td>0</td>\n",
       "      <td>0</td>\n",
       "    </tr>\n",
       "    <tr>\n",
       "      <th>2</th>\n",
       "      <td>1</td>\n",
       "      <td>1</td>\n",
       "      <td>0</td>\n",
       "      <td>1</td>\n",
       "      <td>0</td>\n",
       "      <td>1</td>\n",
       "      <td>0</td>\n",
       "      <td>1</td>\n",
       "      <td>0</td>\n",
       "      <td>4</td>\n",
       "      <td>...</td>\n",
       "      <td>0</td>\n",
       "      <td>0</td>\n",
       "      <td>0</td>\n",
       "      <td>1</td>\n",
       "      <td>0</td>\n",
       "      <td>1</td>\n",
       "      <td>0</td>\n",
       "      <td>0</td>\n",
       "      <td>0</td>\n",
       "      <td>1</td>\n",
       "    </tr>\n",
       "    <tr>\n",
       "      <th>3</th>\n",
       "      <td>1</td>\n",
       "      <td>0</td>\n",
       "      <td>0</td>\n",
       "      <td>1</td>\n",
       "      <td>0</td>\n",
       "      <td>0</td>\n",
       "      <td>1</td>\n",
       "      <td>1</td>\n",
       "      <td>1</td>\n",
       "      <td>0</td>\n",
       "      <td>...</td>\n",
       "      <td>0</td>\n",
       "      <td>0</td>\n",
       "      <td>1</td>\n",
       "      <td>0</td>\n",
       "      <td>1</td>\n",
       "      <td>0</td>\n",
       "      <td>0</td>\n",
       "      <td>0</td>\n",
       "      <td>0</td>\n",
       "      <td>1</td>\n",
       "    </tr>\n",
       "    <tr>\n",
       "      <th>4</th>\n",
       "      <td>0</td>\n",
       "      <td>1</td>\n",
       "      <td>0</td>\n",
       "      <td>1</td>\n",
       "      <td>1</td>\n",
       "      <td>0</td>\n",
       "      <td>1</td>\n",
       "      <td>0</td>\n",
       "      <td>0</td>\n",
       "      <td>0</td>\n",
       "      <td>...</td>\n",
       "      <td>0</td>\n",
       "      <td>0</td>\n",
       "      <td>0</td>\n",
       "      <td>0</td>\n",
       "      <td>0</td>\n",
       "      <td>1</td>\n",
       "      <td>0</td>\n",
       "      <td>0</td>\n",
       "      <td>1</td>\n",
       "      <td>0</td>\n",
       "    </tr>\n",
       "    <tr>\n",
       "      <th>...</th>\n",
       "      <td>...</td>\n",
       "      <td>...</td>\n",
       "      <td>...</td>\n",
       "      <td>...</td>\n",
       "      <td>...</td>\n",
       "      <td>...</td>\n",
       "      <td>...</td>\n",
       "      <td>...</td>\n",
       "      <td>...</td>\n",
       "      <td>...</td>\n",
       "      <td>...</td>\n",
       "      <td>...</td>\n",
       "      <td>...</td>\n",
       "      <td>...</td>\n",
       "      <td>...</td>\n",
       "      <td>...</td>\n",
       "      <td>...</td>\n",
       "      <td>...</td>\n",
       "      <td>...</td>\n",
       "      <td>...</td>\n",
       "      <td>...</td>\n",
       "    </tr>\n",
       "    <tr>\n",
       "      <th>5300</th>\n",
       "      <td>0</td>\n",
       "      <td>0</td>\n",
       "      <td>0</td>\n",
       "      <td>1</td>\n",
       "      <td>1</td>\n",
       "      <td>0</td>\n",
       "      <td>0</td>\n",
       "      <td>0</td>\n",
       "      <td>0</td>\n",
       "      <td>1</td>\n",
       "      <td>...</td>\n",
       "      <td>0</td>\n",
       "      <td>0</td>\n",
       "      <td>0</td>\n",
       "      <td>0</td>\n",
       "      <td>0</td>\n",
       "      <td>1</td>\n",
       "      <td>0</td>\n",
       "      <td>0</td>\n",
       "      <td>1</td>\n",
       "      <td>0</td>\n",
       "    </tr>\n",
       "    <tr>\n",
       "      <th>5301</th>\n",
       "      <td>0</td>\n",
       "      <td>0</td>\n",
       "      <td>0</td>\n",
       "      <td>1</td>\n",
       "      <td>1</td>\n",
       "      <td>1</td>\n",
       "      <td>1</td>\n",
       "      <td>0</td>\n",
       "      <td>0</td>\n",
       "      <td>3</td>\n",
       "      <td>...</td>\n",
       "      <td>0</td>\n",
       "      <td>0</td>\n",
       "      <td>0</td>\n",
       "      <td>0</td>\n",
       "      <td>0</td>\n",
       "      <td>1</td>\n",
       "      <td>0</td>\n",
       "      <td>0</td>\n",
       "      <td>1</td>\n",
       "      <td>0</td>\n",
       "    </tr>\n",
       "    <tr>\n",
       "      <th>5302</th>\n",
       "      <td>1</td>\n",
       "      <td>0</td>\n",
       "      <td>0</td>\n",
       "      <td>1</td>\n",
       "      <td>0</td>\n",
       "      <td>1</td>\n",
       "      <td>1</td>\n",
       "      <td>1</td>\n",
       "      <td>1</td>\n",
       "      <td>2</td>\n",
       "      <td>...</td>\n",
       "      <td>0</td>\n",
       "      <td>0</td>\n",
       "      <td>0</td>\n",
       "      <td>0</td>\n",
       "      <td>0</td>\n",
       "      <td>1</td>\n",
       "      <td>0</td>\n",
       "      <td>0</td>\n",
       "      <td>0</td>\n",
       "      <td>1</td>\n",
       "    </tr>\n",
       "    <tr>\n",
       "      <th>5303</th>\n",
       "      <td>1</td>\n",
       "      <td>1</td>\n",
       "      <td>0</td>\n",
       "      <td>1</td>\n",
       "      <td>0</td>\n",
       "      <td>1</td>\n",
       "      <td>0</td>\n",
       "      <td>1</td>\n",
       "      <td>1</td>\n",
       "      <td>3</td>\n",
       "      <td>...</td>\n",
       "      <td>0</td>\n",
       "      <td>0</td>\n",
       "      <td>0</td>\n",
       "      <td>0</td>\n",
       "      <td>0</td>\n",
       "      <td>1</td>\n",
       "      <td>0</td>\n",
       "      <td>1</td>\n",
       "      <td>0</td>\n",
       "      <td>0</td>\n",
       "    </tr>\n",
       "    <tr>\n",
       "      <th>5304</th>\n",
       "      <td>0</td>\n",
       "      <td>1</td>\n",
       "      <td>0</td>\n",
       "      <td>1</td>\n",
       "      <td>0</td>\n",
       "      <td>1</td>\n",
       "      <td>0</td>\n",
       "      <td>1</td>\n",
       "      <td>1</td>\n",
       "      <td>4</td>\n",
       "      <td>...</td>\n",
       "      <td>0</td>\n",
       "      <td>0</td>\n",
       "      <td>0</td>\n",
       "      <td>0</td>\n",
       "      <td>0</td>\n",
       "      <td>0</td>\n",
       "      <td>1</td>\n",
       "      <td>1</td>\n",
       "      <td>0</td>\n",
       "      <td>0</td>\n",
       "    </tr>\n",
       "  </tbody>\n",
       "</table>\n",
       "<p>5305 rows × 110 columns</p>\n",
       "</div>"
      ],
      "text/plain": [
       "      travelled_more_than_15mins_for_offer  Prefer western over chinese  \\\n",
       "0                                        1                            0   \n",
       "1                                        0                            1   \n",
       "2                                        1                            1   \n",
       "3                                        1                            0   \n",
       "4                                        0                            1   \n",
       "...                                    ...                          ...   \n",
       "5300                                     0                            0   \n",
       "5301                                     0                            0   \n",
       "5302                                     1                            0   \n",
       "5303                                     1                            1   \n",
       "5304                                     0                            1   \n",
       "\n",
       "      travelled_more_than_25mins_for_offer  \\\n",
       "0                                        1   \n",
       "1                                        0   \n",
       "2                                        0   \n",
       "3                                        0   \n",
       "4                                        0   \n",
       "...                                    ...   \n",
       "5300                                     0   \n",
       "5301                                     0   \n",
       "5302                                     0   \n",
       "5303                                     0   \n",
       "5304                                     0   \n",
       "\n",
       "      travelled_more_than_5mins_for_offer  restuarant_same_direction_house  \\\n",
       "0                                       1                                0   \n",
       "1                                       1                                0   \n",
       "2                                       1                                0   \n",
       "3                                       1                                0   \n",
       "4                                       1                                1   \n",
       "...                                   ...                              ...   \n",
       "5300                                    1                                1   \n",
       "5301                                    1                                1   \n",
       "5302                                    1                                0   \n",
       "5303                                    1                                0   \n",
       "5304                                    1                                0   \n",
       "\n",
       "      Cooks regularly  is foodie  restuarant_opposite_direction_house  \\\n",
       "0                   0          0                                    1   \n",
       "1                   0          1                                    1   \n",
       "2                   1          0                                    1   \n",
       "3                   0          1                                    1   \n",
       "4                   0          1                                    0   \n",
       "...               ...        ...                                  ...   \n",
       "5300                0          0                                    0   \n",
       "5301                1          1                                    0   \n",
       "5302                1          1                                    1   \n",
       "5303                1          0                                    1   \n",
       "5304                1          0                                    1   \n",
       "\n",
       "      has Children  visit restaurant with rating (avg)  ...  \\\n",
       "0                1                                   4  ...   \n",
       "1                1                                   0  ...   \n",
       "2                0                                   4  ...   \n",
       "3                1                                   0  ...   \n",
       "4                0                                   0  ...   \n",
       "...            ...                                 ...  ...   \n",
       "5300             0                                   1  ...   \n",
       "5301             0                                   3  ...   \n",
       "5302             1                                   2  ...   \n",
       "5303             1                                   3  ...   \n",
       "5304             1                                   4  ...   \n",
       "\n",
       "      Restaur_spend_greater_than20_4~8  Restaur_spend_greater_than20_gt8  \\\n",
       "0                                    0                                 0   \n",
       "1                                    0                                 0   \n",
       "2                                    0                                 0   \n",
       "3                                    0                                 0   \n",
       "4                                    0                                 0   \n",
       "...                                ...                               ...   \n",
       "5300                                 0                                 0   \n",
       "5301                                 0                                 0   \n",
       "5302                                 0                                 0   \n",
       "5303                                 0                                 0   \n",
       "5304                                 0                                 0   \n",
       "\n",
       "      Restaur_spend_greater_than20_less1  Restaur_spend_greater_than20_never  \\\n",
       "0                                      1                                   0   \n",
       "1                                      1                                   0   \n",
       "2                                      0                                   1   \n",
       "3                                      1                                   0   \n",
       "4                                      0                                   0   \n",
       "...                                  ...                                 ...   \n",
       "5300                                   0                                   0   \n",
       "5301                                   0                                   0   \n",
       "5302                                   0                                   0   \n",
       "5303                                   0                                   0   \n",
       "5304                                   0                                   0   \n",
       "\n",
       "      Climate_Spring  Climate_Summer  Climate_Winter  \\\n",
       "0                  0               1               0   \n",
       "1                  0               1               0   \n",
       "2                  0               1               0   \n",
       "3                  1               0               0   \n",
       "4                  0               1               0   \n",
       "...              ...             ...             ...   \n",
       "5300               0               1               0   \n",
       "5301               0               1               0   \n",
       "5302               0               1               0   \n",
       "5303               0               1               0   \n",
       "5304               0               0               1   \n",
       "\n",
       "      drop location_Location A  drop location_Location B  \\\n",
       "0                            0                         0   \n",
       "1                            1                         0   \n",
       "2                            0                         0   \n",
       "3                            0                         0   \n",
       "4                            0                         1   \n",
       "...                        ...                       ...   \n",
       "5300                         0                         1   \n",
       "5301                         0                         1   \n",
       "5302                         0                         0   \n",
       "5303                         1                         0   \n",
       "5304                         1                         0   \n",
       "\n",
       "      drop location_Location C  \n",
       "0                            1  \n",
       "1                            0  \n",
       "2                            1  \n",
       "3                            1  \n",
       "4                            0  \n",
       "...                        ...  \n",
       "5300                         0  \n",
       "5301                         0  \n",
       "5302                         1  \n",
       "5303                         0  \n",
       "5304                         0  \n",
       "\n",
       "[5305 rows x 110 columns]"
      ]
     },
     "execution_count": 12,
     "metadata": {},
     "output_type": "execute_result"
    }
   ],
   "source": [
    "x_test"
   ]
  },
  {
   "cell_type": "code",
   "execution_count": 13,
   "id": "76cef738",
   "metadata": {
    "execution": {
     "iopub.execute_input": "2022-11-25T15:35:32.227492Z",
     "iopub.status.busy": "2022-11-25T15:35:32.226355Z",
     "iopub.status.idle": "2022-11-25T15:35:32.249083Z",
     "shell.execute_reply": "2022-11-25T15:35:32.248277Z"
    },
    "papermill": {
     "duration": 0.033673,
     "end_time": "2022-11-25T15:35:32.251348",
     "exception": false,
     "start_time": "2022-11-25T15:35:32.217675",
     "status": "completed"
    },
    "tags": []
   },
   "outputs": [
    {
     "data": {
      "text/html": [
       "<div>\n",
       "<style scoped>\n",
       "    .dataframe tbody tr th:only-of-type {\n",
       "        vertical-align: middle;\n",
       "    }\n",
       "\n",
       "    .dataframe tbody tr th {\n",
       "        vertical-align: top;\n",
       "    }\n",
       "\n",
       "    .dataframe thead th {\n",
       "        text-align: right;\n",
       "    }\n",
       "</style>\n",
       "<table border=\"1\" class=\"dataframe\">\n",
       "  <thead>\n",
       "    <tr style=\"text-align: right;\">\n",
       "      <th></th>\n",
       "      <th>travelled_more_than_15mins_for_offer</th>\n",
       "      <th>Prefer western over chinese</th>\n",
       "      <th>travelled_more_than_25mins_for_offer</th>\n",
       "      <th>travelled_more_than_5mins_for_offer</th>\n",
       "      <th>restuarant_same_direction_house</th>\n",
       "      <th>Cooks regularly</th>\n",
       "      <th>is foodie</th>\n",
       "      <th>restuarant_opposite_direction_house</th>\n",
       "      <th>has Children</th>\n",
       "      <th>visit restaurant with rating (avg)</th>\n",
       "      <th>...</th>\n",
       "      <th>Restaur_spend_greater_than20_4~8</th>\n",
       "      <th>Restaur_spend_greater_than20_gt8</th>\n",
       "      <th>Restaur_spend_greater_than20_less1</th>\n",
       "      <th>Restaur_spend_greater_than20_never</th>\n",
       "      <th>Climate_Spring</th>\n",
       "      <th>Climate_Summer</th>\n",
       "      <th>Climate_Winter</th>\n",
       "      <th>drop location_Location A</th>\n",
       "      <th>drop location_Location B</th>\n",
       "      <th>drop location_Location C</th>\n",
       "    </tr>\n",
       "  </thead>\n",
       "  <tbody>\n",
       "    <tr>\n",
       "      <th>0</th>\n",
       "      <td>1</td>\n",
       "      <td>0</td>\n",
       "      <td>0</td>\n",
       "      <td>1</td>\n",
       "      <td>0</td>\n",
       "      <td>1</td>\n",
       "      <td>0</td>\n",
       "      <td>0</td>\n",
       "      <td>0</td>\n",
       "      <td>4</td>\n",
       "      <td>...</td>\n",
       "      <td>0</td>\n",
       "      <td>0</td>\n",
       "      <td>1</td>\n",
       "      <td>0</td>\n",
       "      <td>1</td>\n",
       "      <td>0</td>\n",
       "      <td>0</td>\n",
       "      <td>0</td>\n",
       "      <td>1</td>\n",
       "      <td>0</td>\n",
       "    </tr>\n",
       "    <tr>\n",
       "      <th>1</th>\n",
       "      <td>0</td>\n",
       "      <td>0</td>\n",
       "      <td>0</td>\n",
       "      <td>1</td>\n",
       "      <td>1</td>\n",
       "      <td>1</td>\n",
       "      <td>0</td>\n",
       "      <td>0</td>\n",
       "      <td>1</td>\n",
       "      <td>3</td>\n",
       "      <td>...</td>\n",
       "      <td>0</td>\n",
       "      <td>0</td>\n",
       "      <td>0</td>\n",
       "      <td>0</td>\n",
       "      <td>0</td>\n",
       "      <td>1</td>\n",
       "      <td>0</td>\n",
       "      <td>0</td>\n",
       "      <td>1</td>\n",
       "      <td>0</td>\n",
       "    </tr>\n",
       "    <tr>\n",
       "      <th>2</th>\n",
       "      <td>1</td>\n",
       "      <td>1</td>\n",
       "      <td>0</td>\n",
       "      <td>1</td>\n",
       "      <td>1</td>\n",
       "      <td>0</td>\n",
       "      <td>1</td>\n",
       "      <td>1</td>\n",
       "      <td>1</td>\n",
       "      <td>4</td>\n",
       "      <td>...</td>\n",
       "      <td>0</td>\n",
       "      <td>0</td>\n",
       "      <td>1</td>\n",
       "      <td>0</td>\n",
       "      <td>0</td>\n",
       "      <td>0</td>\n",
       "      <td>1</td>\n",
       "      <td>1</td>\n",
       "      <td>0</td>\n",
       "      <td>0</td>\n",
       "    </tr>\n",
       "    <tr>\n",
       "      <th>3</th>\n",
       "      <td>0</td>\n",
       "      <td>1</td>\n",
       "      <td>0</td>\n",
       "      <td>1</td>\n",
       "      <td>1</td>\n",
       "      <td>0</td>\n",
       "      <td>1</td>\n",
       "      <td>0</td>\n",
       "      <td>1</td>\n",
       "      <td>3</td>\n",
       "      <td>...</td>\n",
       "      <td>0</td>\n",
       "      <td>0</td>\n",
       "      <td>0</td>\n",
       "      <td>0</td>\n",
       "      <td>0</td>\n",
       "      <td>1</td>\n",
       "      <td>0</td>\n",
       "      <td>0</td>\n",
       "      <td>0</td>\n",
       "      <td>1</td>\n",
       "    </tr>\n",
       "    <tr>\n",
       "      <th>4</th>\n",
       "      <td>1</td>\n",
       "      <td>0</td>\n",
       "      <td>1</td>\n",
       "      <td>1</td>\n",
       "      <td>0</td>\n",
       "      <td>0</td>\n",
       "      <td>1</td>\n",
       "      <td>1</td>\n",
       "      <td>0</td>\n",
       "      <td>3</td>\n",
       "      <td>...</td>\n",
       "      <td>0</td>\n",
       "      <td>0</td>\n",
       "      <td>1</td>\n",
       "      <td>0</td>\n",
       "      <td>0</td>\n",
       "      <td>1</td>\n",
       "      <td>0</td>\n",
       "      <td>0</td>\n",
       "      <td>0</td>\n",
       "      <td>1</td>\n",
       "    </tr>\n",
       "    <tr>\n",
       "      <th>...</th>\n",
       "      <td>...</td>\n",
       "      <td>...</td>\n",
       "      <td>...</td>\n",
       "      <td>...</td>\n",
       "      <td>...</td>\n",
       "      <td>...</td>\n",
       "      <td>...</td>\n",
       "      <td>...</td>\n",
       "      <td>...</td>\n",
       "      <td>...</td>\n",
       "      <td>...</td>\n",
       "      <td>...</td>\n",
       "      <td>...</td>\n",
       "      <td>...</td>\n",
       "      <td>...</td>\n",
       "      <td>...</td>\n",
       "      <td>...</td>\n",
       "      <td>...</td>\n",
       "      <td>...</td>\n",
       "      <td>...</td>\n",
       "      <td>...</td>\n",
       "    </tr>\n",
       "    <tr>\n",
       "      <th>12374</th>\n",
       "      <td>1</td>\n",
       "      <td>0</td>\n",
       "      <td>0</td>\n",
       "      <td>1</td>\n",
       "      <td>0</td>\n",
       "      <td>0</td>\n",
       "      <td>1</td>\n",
       "      <td>1</td>\n",
       "      <td>1</td>\n",
       "      <td>1</td>\n",
       "      <td>...</td>\n",
       "      <td>0</td>\n",
       "      <td>0</td>\n",
       "      <td>0</td>\n",
       "      <td>1</td>\n",
       "      <td>0</td>\n",
       "      <td>1</td>\n",
       "      <td>0</td>\n",
       "      <td>0</td>\n",
       "      <td>1</td>\n",
       "      <td>0</td>\n",
       "    </tr>\n",
       "    <tr>\n",
       "      <th>12375</th>\n",
       "      <td>0</td>\n",
       "      <td>0</td>\n",
       "      <td>0</td>\n",
       "      <td>1</td>\n",
       "      <td>0</td>\n",
       "      <td>0</td>\n",
       "      <td>1</td>\n",
       "      <td>1</td>\n",
       "      <td>1</td>\n",
       "      <td>2</td>\n",
       "      <td>...</td>\n",
       "      <td>0</td>\n",
       "      <td>0</td>\n",
       "      <td>0</td>\n",
       "      <td>1</td>\n",
       "      <td>0</td>\n",
       "      <td>1</td>\n",
       "      <td>0</td>\n",
       "      <td>0</td>\n",
       "      <td>1</td>\n",
       "      <td>0</td>\n",
       "    </tr>\n",
       "    <tr>\n",
       "      <th>12376</th>\n",
       "      <td>1</td>\n",
       "      <td>0</td>\n",
       "      <td>1</td>\n",
       "      <td>1</td>\n",
       "      <td>0</td>\n",
       "      <td>1</td>\n",
       "      <td>1</td>\n",
       "      <td>1</td>\n",
       "      <td>0</td>\n",
       "      <td>2</td>\n",
       "      <td>...</td>\n",
       "      <td>0</td>\n",
       "      <td>1</td>\n",
       "      <td>0</td>\n",
       "      <td>0</td>\n",
       "      <td>1</td>\n",
       "      <td>0</td>\n",
       "      <td>0</td>\n",
       "      <td>0</td>\n",
       "      <td>1</td>\n",
       "      <td>0</td>\n",
       "    </tr>\n",
       "    <tr>\n",
       "      <th>12377</th>\n",
       "      <td>1</td>\n",
       "      <td>0</td>\n",
       "      <td>0</td>\n",
       "      <td>1</td>\n",
       "      <td>0</td>\n",
       "      <td>1</td>\n",
       "      <td>0</td>\n",
       "      <td>1</td>\n",
       "      <td>0</td>\n",
       "      <td>1</td>\n",
       "      <td>...</td>\n",
       "      <td>0</td>\n",
       "      <td>0</td>\n",
       "      <td>1</td>\n",
       "      <td>0</td>\n",
       "      <td>0</td>\n",
       "      <td>1</td>\n",
       "      <td>0</td>\n",
       "      <td>0</td>\n",
       "      <td>0</td>\n",
       "      <td>1</td>\n",
       "    </tr>\n",
       "    <tr>\n",
       "      <th>12378</th>\n",
       "      <td>1</td>\n",
       "      <td>1</td>\n",
       "      <td>0</td>\n",
       "      <td>1</td>\n",
       "      <td>0</td>\n",
       "      <td>1</td>\n",
       "      <td>0</td>\n",
       "      <td>1</td>\n",
       "      <td>0</td>\n",
       "      <td>0</td>\n",
       "      <td>...</td>\n",
       "      <td>0</td>\n",
       "      <td>0</td>\n",
       "      <td>1</td>\n",
       "      <td>0</td>\n",
       "      <td>1</td>\n",
       "      <td>0</td>\n",
       "      <td>0</td>\n",
       "      <td>1</td>\n",
       "      <td>0</td>\n",
       "      <td>0</td>\n",
       "    </tr>\n",
       "  </tbody>\n",
       "</table>\n",
       "<p>12379 rows × 110 columns</p>\n",
       "</div>"
      ],
      "text/plain": [
       "       travelled_more_than_15mins_for_offer  Prefer western over chinese  \\\n",
       "0                                         1                            0   \n",
       "1                                         0                            0   \n",
       "2                                         1                            1   \n",
       "3                                         0                            1   \n",
       "4                                         1                            0   \n",
       "...                                     ...                          ...   \n",
       "12374                                     1                            0   \n",
       "12375                                     0                            0   \n",
       "12376                                     1                            0   \n",
       "12377                                     1                            0   \n",
       "12378                                     1                            1   \n",
       "\n",
       "       travelled_more_than_25mins_for_offer  \\\n",
       "0                                         0   \n",
       "1                                         0   \n",
       "2                                         0   \n",
       "3                                         0   \n",
       "4                                         1   \n",
       "...                                     ...   \n",
       "12374                                     0   \n",
       "12375                                     0   \n",
       "12376                                     1   \n",
       "12377                                     0   \n",
       "12378                                     0   \n",
       "\n",
       "       travelled_more_than_5mins_for_offer  restuarant_same_direction_house  \\\n",
       "0                                        1                                0   \n",
       "1                                        1                                1   \n",
       "2                                        1                                1   \n",
       "3                                        1                                1   \n",
       "4                                        1                                0   \n",
       "...                                    ...                              ...   \n",
       "12374                                    1                                0   \n",
       "12375                                    1                                0   \n",
       "12376                                    1                                0   \n",
       "12377                                    1                                0   \n",
       "12378                                    1                                0   \n",
       "\n",
       "       Cooks regularly  is foodie  restuarant_opposite_direction_house  \\\n",
       "0                    1          0                                    0   \n",
       "1                    1          0                                    0   \n",
       "2                    0          1                                    1   \n",
       "3                    0          1                                    0   \n",
       "4                    0          1                                    1   \n",
       "...                ...        ...                                  ...   \n",
       "12374                0          1                                    1   \n",
       "12375                0          1                                    1   \n",
       "12376                1          1                                    1   \n",
       "12377                1          0                                    1   \n",
       "12378                1          0                                    1   \n",
       "\n",
       "       has Children  visit restaurant with rating (avg)  ...  \\\n",
       "0                 0                                   4  ...   \n",
       "1                 1                                   3  ...   \n",
       "2                 1                                   4  ...   \n",
       "3                 1                                   3  ...   \n",
       "4                 0                                   3  ...   \n",
       "...             ...                                 ...  ...   \n",
       "12374             1                                   1  ...   \n",
       "12375             1                                   2  ...   \n",
       "12376             0                                   2  ...   \n",
       "12377             0                                   1  ...   \n",
       "12378             0                                   0  ...   \n",
       "\n",
       "       Restaur_spend_greater_than20_4~8  Restaur_spend_greater_than20_gt8  \\\n",
       "0                                     0                                 0   \n",
       "1                                     0                                 0   \n",
       "2                                     0                                 0   \n",
       "3                                     0                                 0   \n",
       "4                                     0                                 0   \n",
       "...                                 ...                               ...   \n",
       "12374                                 0                                 0   \n",
       "12375                                 0                                 0   \n",
       "12376                                 0                                 1   \n",
       "12377                                 0                                 0   \n",
       "12378                                 0                                 0   \n",
       "\n",
       "       Restaur_spend_greater_than20_less1  Restaur_spend_greater_than20_never  \\\n",
       "0                                       1                                   0   \n",
       "1                                       0                                   0   \n",
       "2                                       1                                   0   \n",
       "3                                       0                                   0   \n",
       "4                                       1                                   0   \n",
       "...                                   ...                                 ...   \n",
       "12374                                   0                                   1   \n",
       "12375                                   0                                   1   \n",
       "12376                                   0                                   0   \n",
       "12377                                   1                                   0   \n",
       "12378                                   1                                   0   \n",
       "\n",
       "       Climate_Spring  Climate_Summer  Climate_Winter  \\\n",
       "0                   1               0               0   \n",
       "1                   0               1               0   \n",
       "2                   0               0               1   \n",
       "3                   0               1               0   \n",
       "4                   0               1               0   \n",
       "...               ...             ...             ...   \n",
       "12374               0               1               0   \n",
       "12375               0               1               0   \n",
       "12376               1               0               0   \n",
       "12377               0               1               0   \n",
       "12378               1               0               0   \n",
       "\n",
       "       drop location_Location A  drop location_Location B  \\\n",
       "0                             0                         1   \n",
       "1                             0                         1   \n",
       "2                             1                         0   \n",
       "3                             0                         0   \n",
       "4                             0                         0   \n",
       "...                         ...                       ...   \n",
       "12374                         0                         1   \n",
       "12375                         0                         1   \n",
       "12376                         0                         1   \n",
       "12377                         0                         0   \n",
       "12378                         1                         0   \n",
       "\n",
       "       drop location_Location C  \n",
       "0                             0  \n",
       "1                             0  \n",
       "2                             0  \n",
       "3                             1  \n",
       "4                             1  \n",
       "...                         ...  \n",
       "12374                         0  \n",
       "12375                         0  \n",
       "12376                         0  \n",
       "12377                         1  \n",
       "12378                         0  \n",
       "\n",
       "[12379 rows x 110 columns]"
      ]
     },
     "execution_count": 13,
     "metadata": {},
     "output_type": "execute_result"
    }
   ],
   "source": [
    "x_train"
   ]
  },
  {
   "cell_type": "markdown",
   "id": "c3298ba5",
   "metadata": {
    "papermill": {
     "duration": 0.007607,
     "end_time": "2022-11-25T15:35:32.267108",
     "exception": false,
     "start_time": "2022-11-25T15:35:32.259501",
     "status": "completed"
    },
    "tags": []
   },
   "source": [
    "# Random Forest Classifier"
   ]
  },
  {
   "cell_type": "code",
   "execution_count": 14,
   "id": "eb87a5c2",
   "metadata": {
    "execution": {
     "iopub.execute_input": "2022-11-25T15:35:32.285019Z",
     "iopub.status.busy": "2022-11-25T15:35:32.284365Z",
     "iopub.status.idle": "2022-11-25T15:35:32.289527Z",
     "shell.execute_reply": "2022-11-25T15:35:32.288725Z"
    },
    "papermill": {
     "duration": 0.016551,
     "end_time": "2022-11-25T15:35:32.291514",
     "exception": false,
     "start_time": "2022-11-25T15:35:32.274963",
     "status": "completed"
    },
    "tags": []
   },
   "outputs": [],
   "source": [
    "def train_classifiers(estimator, X_train, y_train, cv, name):\n",
    "    estimator.fit(X_train, y_train)\n",
    "    cv_train_score = cross_val_score(\n",
    "        estimator, X_train, y_train, cv=cv, scoring='f1_macro')\n",
    "\n",
    "    print(\n",
    "        f'On an average, {name} model has f1 score of 'f'{cv_train_score.mean():.3f} (+/-) {cv_train_score.std():.3f} on the training set')\n"
   ]
  },
  {
   "cell_type": "code",
   "execution_count": 15,
   "id": "eb1c07ce",
   "metadata": {
    "execution": {
     "iopub.execute_input": "2022-11-25T15:35:32.309384Z",
     "iopub.status.busy": "2022-11-25T15:35:32.308743Z",
     "iopub.status.idle": "2022-11-25T15:35:52.937531Z",
     "shell.execute_reply": "2022-11-25T15:35:52.936153Z"
    },
    "papermill": {
     "duration": 20.640751,
     "end_time": "2022-11-25T15:35:52.940351",
     "exception": false,
     "start_time": "2022-11-25T15:35:32.299600",
     "status": "completed"
    },
    "tags": []
   },
   "outputs": [
    {
     "name": "stdout",
     "output_type": "stream",
     "text": [
      "On an average, random forest model has f1 score of 0.596 (+/-) 0.010 on the training set\n"
     ]
    }
   ],
   "source": [
    "from sklearn.ensemble import RandomForestClassifier\n",
    "from sklearn.model_selection import cross_val_score\n",
    "from sklearn.model_selection import ShuffleSplit\n",
    "from sklearn.pipeline import Pipeline\n",
    "cv = ShuffleSplit(n_splits=10,test_size=0.2, random_state=42)\n",
    "rf_pipeline = Pipeline([('classifier', RandomForestClassifier())]) \n",
    "train_classifiers(rf_pipeline,x_train, y_train, cv, 'random forest')\n",
    "y_rf_pred = rf_pipeline.predict(x_test)\n"
   ]
  },
  {
   "cell_type": "code",
   "execution_count": 16,
   "id": "c4a9ee4d",
   "metadata": {
    "execution": {
     "iopub.execute_input": "2022-11-25T15:35:52.959050Z",
     "iopub.status.busy": "2022-11-25T15:35:52.958406Z",
     "iopub.status.idle": "2022-11-25T15:35:52.964981Z",
     "shell.execute_reply": "2022-11-25T15:35:52.964101Z"
    },
    "papermill": {
     "duration": 0.018399,
     "end_time": "2022-11-25T15:35:52.967138",
     "exception": false,
     "start_time": "2022-11-25T15:35:52.948739",
     "status": "completed"
    },
    "tags": []
   },
   "outputs": [],
   "source": [
    "y_rf_pred = pd.DataFrame(y_rf_pred)\n",
    "y_rf_pred = y_rf_pred.replace(to_replace = [1,0],value = ['Yes','No'])"
   ]
  },
  {
   "cell_type": "code",
   "execution_count": 17,
   "id": "bdb07bea",
   "metadata": {
    "execution": {
     "iopub.execute_input": "2022-11-25T15:35:52.985139Z",
     "iopub.status.busy": "2022-11-25T15:35:52.984569Z",
     "iopub.status.idle": "2022-11-25T15:35:52.989609Z",
     "shell.execute_reply": "2022-11-25T15:35:52.988555Z"
    },
    "papermill": {
     "duration": 0.016652,
     "end_time": "2022-11-25T15:35:52.991914",
     "exception": false,
     "start_time": "2022-11-25T15:35:52.975262",
     "status": "completed"
    },
    "tags": []
   },
   "outputs": [],
   "source": [
    "ids=np.arange(0,5305)\n",
    "y_rf_pred=y_rf_pred[0].to_numpy()"
   ]
  },
  {
   "cell_type": "code",
   "execution_count": 18,
   "id": "9366552b",
   "metadata": {
    "execution": {
     "iopub.execute_input": "2022-11-25T15:35:53.010420Z",
     "iopub.status.busy": "2022-11-25T15:35:53.009983Z",
     "iopub.status.idle": "2022-11-25T15:35:53.016953Z",
     "shell.execute_reply": "2022-11-25T15:35:53.015781Z"
    },
    "papermill": {
     "duration": 0.019082,
     "end_time": "2022-11-25T15:35:53.019229",
     "exception": false,
     "start_time": "2022-11-25T15:35:53.000147",
     "status": "completed"
    },
    "tags": []
   },
   "outputs": [
    {
     "data": {
      "text/plain": [
       "array(['Yes', 'Yes', 'No', ..., 'Yes', 'Yes', 'Yes'], dtype=object)"
      ]
     },
     "execution_count": 18,
     "metadata": {},
     "output_type": "execute_result"
    }
   ],
   "source": [
    "y_rf_pred"
   ]
  },
  {
   "cell_type": "code",
   "execution_count": 19,
   "id": "b0fe7df3",
   "metadata": {
    "execution": {
     "iopub.execute_input": "2022-11-25T15:35:53.037688Z",
     "iopub.status.busy": "2022-11-25T15:35:53.037250Z",
     "iopub.status.idle": "2022-11-25T15:35:53.066876Z",
     "shell.execute_reply": "2022-11-25T15:35:53.065665Z"
    },
    "papermill": {
     "duration": 0.041866,
     "end_time": "2022-11-25T15:35:53.069435",
     "exception": false,
     "start_time": "2022-11-25T15:35:53.027569",
     "status": "completed"
    },
    "tags": []
   },
   "outputs": [],
   "source": [
    "np.savetxt(\n",
    "    'submission.csv',\n",
    "    np.rec.fromarrays([ids, y_rf_pred]),\n",
    "    fmt=['%d', '%s'],\n",
    "    delimiter=',',\n",
    "    header='id,Offer Accepted',\n",
    "    comments='',\n",
    ")\n"
   ]
  },
  {
   "cell_type": "markdown",
   "id": "ea2421b2",
   "metadata": {
    "papermill": {
     "duration": 0.007661,
     "end_time": "2022-11-25T15:35:53.085105",
     "exception": false,
     "start_time": "2022-11-25T15:35:53.077444",
     "status": "completed"
    },
    "tags": []
   },
   "source": [
    "# KNN\n",
    "gives lower score"
   ]
  },
  {
   "cell_type": "code",
   "execution_count": 20,
   "id": "077611fd",
   "metadata": {
    "execution": {
     "iopub.execute_input": "2022-11-25T15:35:53.102167Z",
     "iopub.status.busy": "2022-11-25T15:35:53.101763Z",
     "iopub.status.idle": "2022-11-25T15:35:53.108799Z",
     "shell.execute_reply": "2022-11-25T15:35:53.107564Z"
    },
    "papermill": {
     "duration": 0.018241,
     "end_time": "2022-11-25T15:35:53.111063",
     "exception": false,
     "start_time": "2022-11-25T15:35:53.092822",
     "status": "completed"
    },
    "tags": []
   },
   "outputs": [
    {
     "data": {
      "text/plain": [
       "\"from sklearn.neighbors import KNeighborsClassifier\\nfrom sklearn.model_selection import GridSearchCV\\nfrom sklearn.preprocessing import MinMaxScaler\\nfrom sklearn.pipeline import make_pipeline\\npipe_knn = make_pipeline(MinMaxScaler(),\\n                         KNeighborsClassifier(n_neighbors=1))\\ngrid_k = {'kneighborsclassifier__n_neighbors': [1, 3, 5, 7, 9]}\\n\\ncv = GridSearchCV(pipe_knn, param_grid=grid_k, scoring='precision', cv=5,n_jobs=1)\\ncv.fit(x_train, y_train)\\nprint(cv)\""
      ]
     },
     "execution_count": 20,
     "metadata": {},
     "output_type": "execute_result"
    }
   ],
   "source": [
    "'''from sklearn.neighbors import KNeighborsClassifier\n",
    "from sklearn.model_selection import GridSearchCV\n",
    "from sklearn.preprocessing import MinMaxScaler\n",
    "from sklearn.pipeline import make_pipeline\n",
    "pipe_knn = make_pipeline(MinMaxScaler(),\n",
    "                         KNeighborsClassifier(n_neighbors=1))\n",
    "grid_k = {'kneighborsclassifier__n_neighbors': [1, 3, 5, 7, 9]}\n",
    "\n",
    "cv = GridSearchCV(pipe_knn, param_grid=grid_k, scoring='precision', cv=5,n_jobs=1)\n",
    "cv.fit(x_train, y_train)\n",
    "print(cv)'''"
   ]
  },
  {
   "cell_type": "code",
   "execution_count": 21,
   "id": "f0a287af",
   "metadata": {
    "execution": {
     "iopub.execute_input": "2022-11-25T15:35:53.128753Z",
     "iopub.status.busy": "2022-11-25T15:35:53.128388Z",
     "iopub.status.idle": "2022-11-25T15:35:53.134687Z",
     "shell.execute_reply": "2022-11-25T15:35:53.133669Z"
    },
    "papermill": {
     "duration": 0.017608,
     "end_time": "2022-11-25T15:35:53.136873",
     "exception": false,
     "start_time": "2022-11-25T15:35:53.119265",
     "status": "completed"
    },
    "tags": []
   },
   "outputs": [
    {
     "data": {
      "text/plain": [
       "'print(cv.cv_results_)'"
      ]
     },
     "execution_count": 21,
     "metadata": {},
     "output_type": "execute_result"
    }
   ],
   "source": [
    "'''print(cv.cv_results_)'''"
   ]
  },
  {
   "cell_type": "code",
   "execution_count": 22,
   "id": "3726385c",
   "metadata": {
    "execution": {
     "iopub.execute_input": "2022-11-25T15:35:53.155431Z",
     "iopub.status.busy": "2022-11-25T15:35:53.154702Z",
     "iopub.status.idle": "2022-11-25T15:35:53.160874Z",
     "shell.execute_reply": "2022-11-25T15:35:53.159852Z"
    },
    "papermill": {
     "duration": 0.017303,
     "end_time": "2022-11-25T15:35:53.163050",
     "exception": false,
     "start_time": "2022-11-25T15:35:53.145747",
     "status": "completed"
    },
    "tags": []
   },
   "outputs": [
    {
     "data": {
      "text/plain": [
       "'#best result for k=9\\npipe_knn = make_pipeline(MinMaxScaler(),KNeighborsClassifier(n_neighbors=9))\\npipe_knn.fit(x_train,y_train)'"
      ]
     },
     "execution_count": 22,
     "metadata": {},
     "output_type": "execute_result"
    }
   ],
   "source": [
    "'''#best result for k=9\n",
    "pipe_knn = make_pipeline(MinMaxScaler(),KNeighborsClassifier(n_neighbors=9))\n",
    "pipe_knn.fit(x_train,y_train)'''"
   ]
  },
  {
   "cell_type": "code",
   "execution_count": 23,
   "id": "50e4fd17",
   "metadata": {
    "execution": {
     "iopub.execute_input": "2022-11-25T15:35:53.180678Z",
     "iopub.status.busy": "2022-11-25T15:35:53.180270Z",
     "iopub.status.idle": "2022-11-25T15:35:53.187007Z",
     "shell.execute_reply": "2022-11-25T15:35:53.185950Z"
    },
    "papermill": {
     "duration": 0.018101,
     "end_time": "2022-11-25T15:35:53.189142",
     "exception": false,
     "start_time": "2022-11-25T15:35:53.171041",
     "status": "completed"
    },
    "tags": []
   },
   "outputs": [
    {
     "data": {
      "text/plain": [
       "'y_k_pred = pipe_knn.predict(x_test)'"
      ]
     },
     "execution_count": 23,
     "metadata": {},
     "output_type": "execute_result"
    }
   ],
   "source": [
    "'''y_k_pred = pipe_knn.predict(x_test)'''"
   ]
  },
  {
   "cell_type": "code",
   "execution_count": 24,
   "id": "c4c34eaa",
   "metadata": {
    "execution": {
     "iopub.execute_input": "2022-11-25T15:35:53.207170Z",
     "iopub.status.busy": "2022-11-25T15:35:53.206798Z",
     "iopub.status.idle": "2022-11-25T15:35:53.213174Z",
     "shell.execute_reply": "2022-11-25T15:35:53.212171Z"
    },
    "papermill": {
     "duration": 0.018123,
     "end_time": "2022-11-25T15:35:53.215390",
     "exception": false,
     "start_time": "2022-11-25T15:35:53.197267",
     "status": "completed"
    },
    "tags": []
   },
   "outputs": [
    {
     "data": {
      "text/plain": [
       "\"y_k_pred = pd.DataFrame(y_k_pred)\\ny_k_pred = y_k_pred.replace(to_replace = [1,0],value = ['Yes','No'])\\ny_k_pred=y_k_pred[0].to_numpy()\""
      ]
     },
     "execution_count": 24,
     "metadata": {},
     "output_type": "execute_result"
    }
   ],
   "source": [
    "'''y_k_pred = pd.DataFrame(y_k_pred)\n",
    "y_k_pred = y_k_pred.replace(to_replace = [1,0],value = ['Yes','No'])\n",
    "y_k_pred=y_k_pred[0].to_numpy()'''"
   ]
  },
  {
   "cell_type": "code",
   "execution_count": 25,
   "id": "cf676174",
   "metadata": {
    "execution": {
     "iopub.execute_input": "2022-11-25T15:35:53.233845Z",
     "iopub.status.busy": "2022-11-25T15:35:53.233459Z",
     "iopub.status.idle": "2022-11-25T15:35:53.239742Z",
     "shell.execute_reply": "2022-11-25T15:35:53.238735Z"
    },
    "papermill": {
     "duration": 0.018129,
     "end_time": "2022-11-25T15:35:53.241877",
     "exception": false,
     "start_time": "2022-11-25T15:35:53.223748",
     "status": "completed"
    },
    "tags": []
   },
   "outputs": [
    {
     "data": {
      "text/plain": [
       "\"np.savetxt(\\n    'submissionalt.csv',\\n    np.rec.fromarrays([ids, y_k_pred]),\\n    fmt=['%d', '%s'],\\n    delimiter=',',\\n    header='id,Offer Accepted',\\n    comments='',\\n)\""
      ]
     },
     "execution_count": 25,
     "metadata": {},
     "output_type": "execute_result"
    }
   ],
   "source": [
    "'''np.savetxt(\n",
    "    'submissionalt.csv',\n",
    "    np.rec.fromarrays([ids, y_k_pred]),\n",
    "    fmt=['%d', '%s'],\n",
    "    delimiter=',',\n",
    "    header='id,Offer Accepted',\n",
    "    comments='',\n",
    ")'''\n"
   ]
  }
 ],
 "metadata": {
  "kernelspec": {
   "display_name": "Python 3",
   "language": "python",
   "name": "python3"
  },
  "language_info": {
   "codemirror_mode": {
    "name": "ipython",
    "version": 3
   },
   "file_extension": ".py",
   "mimetype": "text/x-python",
   "name": "python",
   "nbconvert_exporter": "python",
   "pygments_lexer": "ipython3",
   "version": "3.7.12"
  },
  "papermill": {
   "default_parameters": {},
   "duration": 31.713705,
   "end_time": "2022-11-25T15:35:53.970978",
   "environment_variables": {},
   "exception": null,
   "input_path": "__notebook__.ipynb",
   "output_path": "__notebook__.ipynb",
   "parameters": {},
   "start_time": "2022-11-25T15:35:22.257273",
   "version": "2.3.4"
  }
 },
 "nbformat": 4,
 "nbformat_minor": 5
}
